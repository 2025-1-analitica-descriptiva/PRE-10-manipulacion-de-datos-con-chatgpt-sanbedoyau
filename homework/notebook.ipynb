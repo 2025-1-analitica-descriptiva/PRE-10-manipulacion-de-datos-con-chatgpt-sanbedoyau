{
 "cells": [
  {
   "cell_type": "markdown",
   "id": "9d40b185",
   "metadata": {},
   "source": [
    "Calcule el promedio de las columnas \"hours-logged\" y \"miles-logged\" en la tabla \"timesheet\", agrupando los resultados por cada conductor (driverId)."
   ]
  },
  {
   "cell_type": "markdown",
   "id": "4037a3ef",
   "metadata": {},
   "source": [
    "Cree una tabla llamada \"timesheet_with_means\" basada en la tabla \"timesheet\", agregando una columna con el promedio de \"hours-logged\" para cada conductor (driverId)."
   ]
  },
  {
   "cell_type": "markdown",
   "id": "3c29df12",
   "metadata": {},
   "source": [
    "Cree una tabla llamada \"timesheet_below\" a partir de \"timesheet_with_means\", filtrando los registros donde \"hours-logged\" sea menor que \"mean_hours-logged\""
   ]
  },
  {
   "cell_type": "markdown",
   "id": "46ad1249",
   "metadata": {},
   "source": [
    "Cree una tabla llamada \"sum_timesheet\" agrupando la tabla \"timesheet\" por driverId y calculando la suma de las columnas \"hours-logged\" y \"miles-logged\""
   ]
  },
  {
   "cell_type": "markdown",
   "id": "07513deb",
   "metadata": {},
   "source": [
    "Crea una tabla llamada \"summary\" combinando las tablas \"sum_timesheet\" y \"drivers\" mediante la clave driverId. De la tabla \"drivers\", incluye únicamente las columnas \"driverId\" y \"name\""
   ]
  },
  {
   "cell_type": "markdown",
   "id": "95cc449e",
   "metadata": {},
   "source": [
    "Crea una tabla llamada \"min_max_timesheet\" a partir de la tabla \"timesheet\", agrupando los datos por driverId y calculando el valor mínimo y máximo de la columna \"hours-logged\""
   ]
  },
  {
   "cell_type": "markdown",
   "id": "77cbb271",
   "metadata": {},
   "source": [
    "Guarda la tabla \"summary\" en un archivo CSV con el nombre \"summary.csv\" para descargar."
   ]
  },
  {
   "cell_type": "markdown",
   "id": "3dbcf595",
   "metadata": {},
   "source": [
    "Crea una tabla llamada \"top10\" con los 10 conductores que tienen la mayor cantidad de millas registradas, ordenando los datos en forma descendente por la columna \"miles-logged\"."
   ]
  },
  {
   "cell_type": "markdown",
   "id": "0aa589fa",
   "metadata": {},
   "source": [
    "Crea un gráfico de barras horizontales utilizando los datos de la tabla \"top10\", donde el eje y represente los nombres de los conductores y el eje x la cantidad de millas registradas. Asegúrate de que los conductores con más millas estén en la parte superior del gráfico.\n"
   ]
  }
 ],
 "metadata": {
  "kernelspec": {
   "display_name": ".venv",
   "language": "python",
   "name": "python3"
  },
  "language_info": {
   "name": "python",
   "version": "3.9.13"
  }
 },
 "nbformat": 4,
 "nbformat_minor": 5
}
